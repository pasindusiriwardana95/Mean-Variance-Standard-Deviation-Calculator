{
 "cells": [
  {
   "cell_type": "code",
   "execution_count": 1,
   "id": "2ea04349-b93d-4bfa-ba75-c1913b612357",
   "metadata": {},
   "outputs": [],
   "source": [
    "import numpy as np\n",
    "import pandas as pd"
   ]
  },
  {
   "cell_type": "code",
   "execution_count": 39,
   "id": "494f283d-00c0-4803-b167-54c41c702602",
   "metadata": {},
   "outputs": [],
   "source": [
    "def calculate(arr_):\n",
    "    try:\n",
    "        if len(arr_) < 9:\n",
    "            raise ValueError(\"List must contain nine numbers.\")\n",
    "            return None\n",
    "        else:\n",
    "            mat_ = np.reshape(arr_, (3,3))\n",
    "            # create the dictionary\n",
    "            ret_dic = {\n",
    "                \"mean\" : [np.mean(mat_, axis=0).tolist(), np.mean(mat_, axis=1).tolist(), np.mean(arr_)],\n",
    "                \"variance\" : [np.var(mat_, axis=0).tolist(), np.var(mat_, axis=1).tolist(), np.var(arr_)],\n",
    "                \"standard deviation\" : [np.std(mat_, axis=0).tolist(), np.std(mat_, axis=1).tolist(), np.std(arr_)],\n",
    "                \"max\" : [np.max(mat_, axis=0).tolist(), np.max(mat_, axis=1).tolist(), np.max(arr_)],\n",
    "                \"min\" : [np.min(mat_, axis=0).tolist(), np.min(mat_, axis=1).tolist(), np.min(arr_)],\n",
    "                \"sum\" : [np.sum(mat_, axis=0).tolist(), np.sum(mat_, axis=1).tolist(), np.sum(arr_)]\n",
    "            }\n",
    "            return ret_dic\n",
    "    except ValueError as err:\n",
    "        print(err)"
   ]
  },
  {
   "cell_type": "code",
   "execution_count": 42,
   "id": "f4f2a9e6-d11e-4569-a44a-a4fb4cc236cc",
   "metadata": {},
   "outputs": [
    {
     "name": "stdout",
     "output_type": "stream",
     "text": [
      "{'mean': [[3.0, 4.0, 5.0], [1.0, 4.0, 7.0], 4.0], 'variance': [[6.0, 6.0, 6.0], [0.6666666666666666, 0.6666666666666666, 0.6666666666666666], 6.666666666666667], 'standard deviation': [[2.449489742783178, 2.449489742783178, 2.449489742783178], [0.816496580927726, 0.816496580927726, 0.816496580927726], 2.581988897471611], 'max': [[6, 7, 8], [2, 5, 8], 8], 'min': [[0, 1, 2], [0, 3, 6], 0], 'sum': [[9, 12, 15], [3, 12, 21], 36]}\n"
     ]
    }
   ],
   "source": [
    "print(calculate([0,1,2,3,4,5,6,7,8]))"
   ]
  },
  {
   "cell_type": "code",
   "execution_count": 11,
   "id": "bc7f9477-61ff-4746-bf53-a3db96f2e9eb",
   "metadata": {},
   "outputs": [
    {
     "data": {
      "text/plain": [
       "array([[[0, 1, 2, 3, 4, 5, 6, 7, 8]]])"
      ]
     },
     "execution_count": 11,
     "metadata": {},
     "output_type": "execute_result"
    }
   ],
   "source": [
    "a = np.array([0,1,2,3,4,5,6,7,8], ndmin=3)\n",
    "a"
   ]
  },
  {
   "cell_type": "code",
   "execution_count": 16,
   "id": "9f553dfc-864e-4ab8-88fb-5dfe5a2c128b",
   "metadata": {},
   "outputs": [
    {
     "name": "stdout",
     "output_type": "stream",
     "text": [
      "Object `np.Dictionary` not found.\n"
     ]
    }
   ],
   "source": [
    "np.Dictionary?"
   ]
  },
  {
   "cell_type": "code",
   "execution_count": 26,
   "id": "891f0faf-e170-408e-af6a-d3f57d967bb0",
   "metadata": {},
   "outputs": [
    {
     "data": {
      "text/plain": [
       "[1, 2, 3]"
      ]
     },
     "execution_count": 26,
     "metadata": {},
     "output_type": "execute_result"
    }
   ],
   "source": [
    "b = [1,2,3]\n",
    "b"
   ]
  },
  {
   "cell_type": "code",
   "execution_count": 27,
   "id": "ddab7093-55da-4723-a239-1c5fa6349bd5",
   "metadata": {},
   "outputs": [],
   "source": [
    "c = np.array([1,2,3])"
   ]
  },
  {
   "cell_type": "code",
   "execution_count": 28,
   "id": "5a9c85e7-b8cc-4fef-a235-d97367737fda",
   "metadata": {},
   "outputs": [
    {
     "data": {
      "text/plain": [
       "array([1, 2, 3])"
      ]
     },
     "execution_count": 28,
     "metadata": {},
     "output_type": "execute_result"
    }
   ],
   "source": [
    "c"
   ]
  },
  {
   "cell_type": "code",
   "execution_count": null,
   "id": "6f7dff91-c641-499e-b693-719fb2bc085e",
   "metadata": {},
   "outputs": [],
   "source": []
  }
 ],
 "metadata": {
  "kernelspec": {
   "display_name": "Python 3 (ipykernel)",
   "language": "python",
   "name": "python3"
  },
  "language_info": {
   "codemirror_mode": {
    "name": "ipython",
    "version": 3
   },
   "file_extension": ".py",
   "mimetype": "text/x-python",
   "name": "python",
   "nbconvert_exporter": "python",
   "pygments_lexer": "ipython3",
   "version": "3.9.12"
  }
 },
 "nbformat": 4,
 "nbformat_minor": 5
}
